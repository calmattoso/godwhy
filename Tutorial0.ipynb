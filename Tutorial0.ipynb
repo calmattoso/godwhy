{
 "cells": [
  {
   "cell_type": "code",
   "execution_count": 1,
   "metadata": {
    "collapsed": true
   },
   "outputs": [],
   "source": [
    "import warnings\n",
    "warnings.filterwarnings('ignore')"
   ]
  },
  {
   "cell_type": "code",
   "execution_count": 2,
   "metadata": {
    "collapsed": false
   },
   "outputs": [],
   "source": [
    "import numpy as np\n",
    "import time as t"
   ]
  },
  {
   "cell_type": "code",
   "execution_count": 3,
   "metadata": {
    "collapsed": false
   },
   "outputs": [
    {
     "name": "stdout",
     "output_type": "stream",
     "text": [
      "CPU: Found 68265282 values in 0.142890 secs\n"
     ]
    }
   ],
   "source": [
    "x = np.random.randn(10e7).astype(np.float32)\n",
    "start = t.time()\n",
    "valid = np.logical_and(-1<x,x<+1)\n",
    "total_time_cpu = t.time()-start\n",
    "print ('CPU: Found %d values in %f secs' % (np.sum(valid) , total_time_cpu))"
   ]
  },
  {
   "cell_type": "code",
   "execution_count": 4,
   "metadata": {
    "collapsed": true
   },
   "outputs": [],
   "source": [
    "import pycuda.autoinit\n",
    "from pycuda.compiler import SourceModule\n",
    "import pycuda.driver as drv\n",
    "import pycuda.gpuarray as gpuarray"
   ]
  },
  {
   "cell_type": "code",
   "execution_count": 5,
   "metadata": {
    "collapsed": false
   },
   "outputs": [],
   "source": [
    "kernel = SourceModule(\"\"\"\n",
    "__global__ void twice(float *x)\n",
    "{\n",
    "    const unsigned int i = threadIdx.x  + threadIdx.y*blockDim.x;\n",
    "    x[i] = 2*x[i];\n",
    "}\n",
    "\"\"\")\n",
    "twice = kernel.get_function('twice')"
   ]
  },
  {
   "cell_type": "code",
   "execution_count": 6,
   "metadata": {
    "collapsed": false
   },
   "outputs": [],
   "source": [
    "x = np.random.randn(10e7).astype(np.float32)\n",
    "x_gpu = gpuarray.to_gpu(x)\n",
    "twice(x_gpu, block=(4,4,1), grid=(1,1))"
   ]
  },
  {
   "cell_type": "code",
   "execution_count": 7,
   "metadata": {
    "collapsed": false
   },
   "outputs": [
    {
     "name": "stdout",
     "output_type": "stream",
     "text": [
      "[-1.27332497  0.28459895 -0.66097635 ..., -1.63916337 -0.96839261\n",
      " -2.0487504 ] 3859.75\n",
      "[-2.54664993  0.56919789 -1.3219527  ..., -1.63916337 -0.96839261\n",
      " -2.0487504 ] 3862.13\n"
     ]
    }
   ],
   "source": [
    "print(x, np.sum(x))\n",
    "print(x_gpu.get(),np.float32(gpuarray.sum(x_gpu).get()))"
   ]
  },
  {
   "cell_type": "code",
   "execution_count": 8,
   "metadata": {
    "collapsed": false
   },
   "outputs": [],
   "source": [
    "kernel = SourceModule(\"\"\"\n",
    "__global__ void threshold(float *x, unsigned int len)\n",
    "{\n",
    "    const unsigned int idx = blockIdx.x * blockDim.x + threadIdx.x;\n",
    "    const unsigned int numThreads = blockDim.x * gridDim.x;\n",
    "    \n",
    "    for(int i = idx; i < len; i+=numThreads)\n",
    "        x[i] = -1<x[i] && x[i] < +1 ? 1.0: 0.0;\n",
    "}\n",
    "\"\"\")\n",
    "threshold = kernel.get_function('threshold')"
   ]
  },
  {
   "cell_type": "code",
   "execution_count": 9,
   "metadata": {
    "collapsed": false
   },
   "outputs": [],
   "source": [
    "start = t.time()\n",
    "threshold(x_gpu, np.uint32(len(x)), block=(256,1,1), grid=(16,1))\n",
    "total_time_gpu = t.time()-start"
   ]
  },
  {
   "cell_type": "code",
   "execution_count": 10,
   "metadata": {
    "collapsed": false
   },
   "outputs": [
    {
     "name": "stdout",
     "output_type": "stream",
     "text": [
      "GPU:Found 68274568 values in 0.000316 secs\n"
     ]
    }
   ],
   "source": [
    "sumvalues = gpuarray.sum(x_gpu).get()\n",
    "print('GPU:Found %d values in %f secs' % (sumvalues,total_time_gpu))"
   ]
  },
  {
   "cell_type": "code",
   "execution_count": 11,
   "metadata": {
    "collapsed": false
   },
   "outputs": [
    {
     "name": "stdout",
     "output_type": "stream",
     "text": [
      "Speedup: 452.321509\n"
     ]
    }
   ],
   "source": [
    "speedup = total_time_cpu/total_time_gpu\n",
    "print('Speedup: %f' % speedup)"
   ]
  },
  {
   "cell_type": "code",
   "execution_count": 12,
   "metadata": {
    "collapsed": false
   },
   "outputs": [],
   "source": [
    "start = t.time()\n",
    "threshold(drv.InOut(x), np.uint32(len(x)), block=(256,1,1) , grid=(16,1))\n",
    "total_time_gpu = t.time() - start"
   ]
  },
  {
   "cell_type": "code",
   "execution_count": 13,
   "metadata": {
    "collapsed": false
   },
   "outputs": [
    {
     "name": "stdout",
     "output_type": "stream",
     "text": [
      "GPU: Found 68274552 values in 0.189752 secs (automatic conversion)\n"
     ]
    }
   ],
   "source": [
    "print('GPU: Found %d values in %f secs (automatic conversion)' % (np.sum(x) , total_time_gpu))"
   ]
  },
  {
   "cell_type": "code",
   "execution_count": null,
   "metadata": {
    "collapsed": true
   },
   "outputs": [],
   "source": []
  }
 ],
 "metadata": {
  "kernelspec": {
   "display_name": "Python 3",
   "language": "python",
   "name": "python3"
  },
  "language_info": {
   "codemirror_mode": {
    "name": "ipython",
    "version": 3
   },
   "file_extension": ".py",
   "mimetype": "text/x-python",
   "name": "python",
   "nbconvert_exporter": "python",
   "pygments_lexer": "ipython3",
   "version": "3.3.5"
  }
 },
 "nbformat": 4,
 "nbformat_minor": 1
}
