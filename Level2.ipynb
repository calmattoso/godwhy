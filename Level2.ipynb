{
 "cells": [
  {
   "cell_type": "code",
   "execution_count": 34,
   "metadata": {
    "collapsed": true
   },
   "outputs": [],
   "source": [
    "import warnings\n",
    "warnings.filterwarnings('ignore')"
   ]
  },
  {
   "cell_type": "code",
   "execution_count": 35,
   "metadata": {
    "collapsed": false
   },
   "outputs": [],
   "source": [
    "import numpy as np\n",
    "import time as t\n",
    "import matplotlib.pyplot as plt"
   ]
  },
  {
   "cell_type": "markdown",
   "metadata": {},
   "source": [
    "Definimos o número de cenarios:"
   ]
  },
  {
   "cell_type": "code",
   "execution_count": 36,
   "metadata": {
    "collapsed": true
   },
   "outputs": [],
   "source": [
    "ncenarios=np.uint32(1e7)"
   ]
  },
  {
   "cell_type": "markdown",
   "metadata": {},
   "source": [
    "# 1. CPU CODE"
   ]
  },
  {
   "cell_type": "markdown",
   "metadata": {},
   "source": [
    "## 1.1. Definição do comportamento de um cenário:"
   ]
  },
  {
   "cell_type": "code",
   "execution_count": 54,
   "metadata": {
    "collapsed": false
   },
   "outputs": [],
   "source": [
    "def generateCenario():\n",
    "    \n",
    "    e1 , e2 , e3 = np.random.randn() , np.random.randn() , np.random.randn()\n",
    "\n",
    "    t1 = 2  + 1*e1\n",
    "    t2 = 5  + 1*e2\n",
    "    \n",
    "    if( t1 + t2 > 8):\n",
    "        t3 = 2  + 0.5*e3\n",
    "        custo = 10000*( t1 + t2 ) + 30000*t3\n",
    "    else:\n",
    "        t3 = 3  + 0.5*e3\n",
    "        custo = 10000*( t1 + t2 + t3 )\n",
    "        \n",
    "    tempo = t1 + t2 + t3\n",
    "    \n",
    "    return tempo, custo"
   ]
  },
  {
   "cell_type": "markdown",
   "metadata": {},
   "source": [
    "## 1.2. Simulação dos cenários:"
   ]
  },
  {
   "cell_type": "code",
   "execution_count": 55,
   "metadata": {
    "collapsed": false
   },
   "outputs": [],
   "source": [
    "cenarios_tempo = np.zeros(ncenarios)\n",
    "cenarios_custo = np.zeros(ncenarios)\n",
    "\n",
    "start = t.time()\n",
    "\n",
    "for ncen in range(ncenarios):\n",
    "    cenarios_tempo[ncen], cenarios_custo[ncen] = generateCenario()\n",
    "        \n",
    "total_time_cpu = t.time()-start"
   ]
  },
  {
   "cell_type": "markdown",
   "metadata": {},
   "source": [
    "## 1.3. Resultados (Tempo de execução):"
   ]
  },
  {
   "cell_type": "code",
   "execution_count": 56,
   "metadata": {
    "collapsed": false
   },
   "outputs": [
    {
     "name": "stdout",
     "output_type": "stream",
     "text": [
      "CPU: in 19.101891 secs\n"
     ]
    }
   ],
   "source": [
    "print('CPU: in %f secs' % (total_time_cpu))"
   ]
  },
  {
   "cell_type": "markdown",
   "metadata": {},
   "source": [
    "## 1.5. Visualização de resultados:"
   ]
  },
  {
   "cell_type": "code",
   "execution_count": 57,
   "metadata": {
    "collapsed": false
   },
   "outputs": [
    {
     "data": {
      "image/png": "[encoded data removed]",
      "text/plain": [
       "<matplotlib.figure.Figure at 0x2add9241ec10>"
      ]
     },
     "metadata": {},
     "output_type": "display_data"
    }
   ],
   "source": [
    "plt.figure(figsize=(12,6))\n",
    "plt.subplot(121)\n",
    "plt.hist(cenarios_tempo)\n",
    "plt.title('tempo')\n",
    "plt.subplot(122)\n",
    "plt.hist(cenarios_custo)\n",
    "plt.title('custo')\n",
    "plt.show()"
   ]
  },
  {
   "cell_type": "markdown",
   "metadata": {},
   "source": [
    "## 1.4. Análise dos cenários:"
   ]
  },
  {
   "cell_type": "code",
   "execution_count": 44,
   "metadata": {
    "collapsed": false
   },
   "outputs": [
    {
     "name": "stdout",
     "output_type": "stream",
     "text": [
      "Probabilidade de ter um precio de produção maior a 150000 é :  28.674970\n"
     ]
    }
   ],
   "source": [
    "cenarios_custo_ok=np.sum(np.apply_along_axis(lambda x: x>110000, axis=0 , arr=cenarios_custo))\n",
    "\n",
    "p = (cenarios_custo_ok/len(cenarios_custo))*100\n",
    "\n",
    "print( \"Probabilidade de ter um precio de produção maior a 150000 é :  %f\" % p)"
   ]
  },
  {
   "cell_type": "markdown",
   "metadata": {},
   "source": [
    "# 2. GPU CODE"
   ]
  },
  {
   "cell_type": "code",
   "execution_count": 45,
   "metadata": {
    "collapsed": false
   },
   "outputs": [],
   "source": [
    "import pycuda.autoinit\n",
    "from pycuda.compiler import SourceModule\n",
    "import pycuda.gpuarray as gpuarray\n",
    "from pycuda.curandom import rand as curand"
   ]
  },
  {
   "cell_type": "markdown",
   "metadata": {},
   "source": [
    "## 2.1. Definimos o comportamento dos cenários:"
   ]
  },
  {
   "cell_type": "code",
   "execution_count": 46,
   "metadata": {
    "collapsed": false,
    "scrolled": false
   },
   "outputs": [],
   "source": [
    "kernel = SourceModule(\"\"\"\n",
    "__device__ void generateCenarioGPU(float &t, float &custo, float *rand)\n",
    "{\n",
    "    float t1 , t2 , t3, e1 , e2 , e3;\n",
    "    \n",
    "    e1 =(2*rand[0]-1);\n",
    "    e2 =(2*rand[1]-1);\n",
    "    e3 =(2*rand[2]-1);\n",
    "    \n",
    "    t1 =  2 + 1*e1;\n",
    "    t2 =  5 + 1*e2;\n",
    "    \n",
    "    if( t1 + t2 > 8)\n",
    "    {\n",
    "        t3 = 2.0 + 0.5*e3;\n",
    "        custo = 10000*( t1 + t2 ) + 30000*t3;\n",
    "    }\n",
    "    else\n",
    "    {\n",
    "        t3 = 3.0 + 0.5*e3;\n",
    "        custo = 10000*( t1 + t2 + t3 );\n",
    "    }\n",
    "    \n",
    "    t = t1 + t2 + t3;\n",
    "}\n",
    "\n",
    "__global__ void generateCenariosGPU(float *cenarios_tempo,float *cenarios_custo, float *rand, unsigned int numcenarios)\n",
    "{\n",
    "    const unsigned int thread = blockIdx.x * blockDim.x + threadIdx.x;\n",
    "    const unsigned int numthreads = blockDim.x * gridDim.x;\n",
    "        \n",
    "    for(unsigned int i=0 ; i<numcenarios ; i+=numthreads)\n",
    "        generateCenarioGPU(cenarios_tempo[thread + i], cenarios_custo[thread + i], &rand[i*3]);\n",
    "}\n",
    "\"\"\")\n",
    "generateCenarioGPU = kernel.get_function('generateCenariosGPU')"
   ]
  },
  {
   "cell_type": "markdown",
   "metadata": {},
   "source": [
    "## 2.2. Simulação dos cenários:"
   ]
  },
  {
   "cell_type": "code",
   "execution_count": 47,
   "metadata": {
    "collapsed": false
   },
   "outputs": [],
   "source": [
    "cenarios_tempo_gpu = gpuarray.zeros(ncenarios, np.float32)\n",
    "cenarios_custo_gpu = gpuarray.zeros(ncenarios, np.float32)\n",
    "\n",
    "start = t.time()\n",
    "rand_gpu = curand(3*ncenarios, dtype=np.float32)\n",
    "generateCenarioGPU(cenarios_tempo_gpu, cenarios_custo_gpu, rand_gpu, ncenarios, block=(256,1,1), grid=(32,1))\n",
    "total_time_gpu = t.time()-start"
   ]
  },
  {
   "cell_type": "markdown",
   "metadata": {},
   "source": [
    "## 2.3. Resultados (Tempo de execução):"
   ]
  },
  {
   "cell_type": "code",
   "execution_count": 48,
   "metadata": {
    "collapsed": false
   },
   "outputs": [
    {
     "name": "stdout",
     "output_type": "stream",
     "text": [
      "GPU: in 0.084740 secs\n"
     ]
    }
   ],
   "source": [
    "print('GPU: in %f secs' % (total_time_gpu))"
   ]
  },
  {
   "cell_type": "markdown",
   "metadata": {},
   "source": [
    "## 2.5. Visualização de resultados:"
   ]
  },
  {
   "cell_type": "code",
   "execution_count": 49,
   "metadata": {
    "collapsed": false
   },
   "outputs": [
    {
     "data": {
      "image/png": "[encoded data removed]",
      "text/plain": [
       "<matplotlib.figure.Figure at 0x2add7333edd0>"
      ]
     },
     "metadata": {},
     "output_type": "display_data"
    }
   ],
   "source": [
    "plt.figure(figsize=(12,6))\n",
    "plt.subplot(121)\n",
    "plt.hist(cenarios_tempo_gpu.get())\n",
    "plt.title('tempo')\n",
    "plt.subplot(122)\n",
    "plt.hist(cenarios_custo_gpu.get())\n",
    "plt.title('custo')\n",
    "plt.show()"
   ]
  },
  {
   "cell_type": "markdown",
   "metadata": {},
   "source": [
    "## 2.4. Análise dos cenários:"
   ]
  },
  {
   "cell_type": "code",
   "execution_count": 50,
   "metadata": {
    "collapsed": false
   },
   "outputs": [
    {
     "name": "stdout",
     "output_type": "stream",
     "text": [
      "Probabilidade de ter um precio de produção maior a 150000 é :  82.469120\n"
     ]
    }
   ],
   "source": [
    "cenarios_custo_cpu=cenarios_custo_gpu.get()\n",
    "cenarios_custo_ok_cpu=np.sum(np.apply_along_axis(lambda x: x<110000, axis=0 , arr=cenarios_custo_cpu))\n",
    "\n",
    "p = (cenarios_custo_ok_cpu/len(cenarios_custo_cpu))*100\n",
    "\n",
    "print( \"Probabilidade de ter um precio de produção maior a 150000 é :  %f\" % p)"
   ]
  },
  {
   "cell_type": "markdown",
   "metadata": {},
   "source": [
    "# 3. Speedup"
   ]
  },
  {
   "cell_type": "code",
   "execution_count": 51,
   "metadata": {
    "collapsed": false
   },
   "outputs": [
    {
     "name": "stdout",
     "output_type": "stream",
     "text": [
      "Speedup : 1318.771884\n"
     ]
    }
   ],
   "source": [
    "speedup= total_time_cpu / total_time_gpu\n",
    "print (\"Speedup : %f\" % speedup)"
   ]
  },
  {
   "cell_type": "code",
   "execution_count": null,
   "metadata": {
    "collapsed": true
   },
   "outputs": [],
   "source": []
  }
 ],
 "metadata": {
  "kernelspec": {
   "display_name": "Python 3",
   "language": "python",
   "name": "python3"
  },
  "language_info": {
   "codemirror_mode": {
    "name": "ipython",
    "version": 3
   },
   "file_extension": ".py",
   "mimetype": "text/x-python",
   "name": "python",
   "nbconvert_exporter": "python",
   "pygments_lexer": "ipython3",
   "version": "3.3.5"
  }
 },
 "nbformat": 4,
 "nbformat_minor": 1
}
