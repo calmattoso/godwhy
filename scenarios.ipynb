{
 "cells": [
  {
   "cell_type": "code",
   "execution_count": 1,
   "metadata": {
    "collapsed": true
   },
   "outputs": [],
   "source": [
    "import warnings\n",
    "warnings.filterwarnings('ignore')"
   ]
  },
  {
   "cell_type": "code",
   "execution_count": 2,
   "metadata": {
    "collapsed": true
   },
   "outputs": [],
   "source": [
    "import numpy as np\n",
    "import time as t\n",
    "import matplotlib.pyplot as plt"
   ]
  },
  {
   "cell_type": "markdown",
   "metadata": {},
   "source": [
    "# CPU CODE"
   ]
  },
  {
   "cell_type": "markdown",
   "metadata": {},
   "source": [
    "## 1. Definir o número de cenários"
   ]
  },
  {
   "cell_type": "code",
   "execution_count": 3,
   "metadata": {
    "collapsed": true
   },
   "outputs": [],
   "source": [
    "ncenarios=np.uint32(1e8)"
   ]
  },
  {
   "cell_type": "code",
   "execution_count": 4,
   "metadata": {
    "collapsed": true
   },
   "outputs": [],
   "source": [
    "def generateScenario():\n",
    "    \n",
    "    e1 = 2*np.random.random() -1\n",
    "    e2 = 2*np.random.random() -1\n",
    "    e3 = 2*np.random.random() -1\n",
    "    \n",
    "    t1 = 2 + 1*e1\n",
    "    t2 = 5 + 1*e2\n",
    "    t3 = 2 + 0.5*e3\n",
    "    \n",
    "    tempo = t1 + t2 + t3\n",
    "    custo = 100000*tempo\n",
    "    \n",
    "    return tempo, custo"
   ]
  },
  {
   "cell_type": "markdown",
   "metadata": {},
   "source": [
    "## 2. Simulação dos cenários"
   ]
  },
  {
   "cell_type": "code",
   "execution_count": 5,
   "metadata": {
    "collapsed": false
   },
   "outputs": [],
   "source": [
    "cenarios_tempo = np.zeros(ncenarios)\n",
    "cenarios_custo = np.zeros(ncenarios)\n",
    "\n",
    "start = t.time()\n",
    "\n",
    "for ncen in range(ncenarios):\n",
    "    cenarios_tempo[ncen] , cenarios_custo[ncen] = generateScenario()\n",
    "    \n",
    "total_time_cpu = t.time() - start"
   ]
  },
  {
   "cell_type": "markdown",
   "metadata": {},
   "source": [
    "## 3. Resultados"
   ]
  },
  {
   "cell_type": "code",
   "execution_count": 6,
   "metadata": {
    "collapsed": false
   },
   "outputs": [
    {
     "name": "stdout",
     "output_type": "stream",
     "text": [
      "CPU em 181.391557 segundos. \n"
     ]
    }
   ],
   "source": [
    "print('CPU em %f segundos. ' % total_time_cpu)"
   ]
  },
  {
   "cell_type": "code",
   "execution_count": 7,
   "metadata": {
    "collapsed": false
   },
   "outputs": [
    {
     "data": {
      "image/png": "[encoded data removed]",
      "text/plain": [
       "<matplotlib.figure.Figure at 0x2b05fc028b90>"
      ]
     },
     "metadata": {},
     "output_type": "display_data"
    }
   ],
   "source": [
    "plt.figure(figsize=(12,6))\n",
    "plt.subplot(121)\n",
    "plt.hist(cenarios_tempo)\n",
    "plt.subplot(122)\n",
    "plt.hist(cenarios_custo)\n",
    "plt.show()"
   ]
  },
  {
   "cell_type": "code",
   "execution_count": 8,
   "metadata": {
    "collapsed": false
   },
   "outputs": [
    {
     "name": "stdout",
     "output_type": "stream",
     "text": [
      "Probabilidade do custo passar os 1000000 é : 13.548622\n"
     ]
    }
   ],
   "source": [
    "cenarios_custo_ok=np.sum(np.apply_along_axis(lambda x: x>1000000, axis =0 , arr=cenarios_custo))\n",
    "p = (cenarios_custo_ok/len(cenarios_custo))*100\n",
    "print('Probabilidade do custo passar os 1000000 é : %f' % p)"
   ]
  },
  {
   "cell_type": "markdown",
   "metadata": {},
   "source": [
    " # GPU CODE"
   ]
  },
  {
   "cell_type": "code",
   "execution_count": 9,
   "metadata": {
    "collapsed": true
   },
   "outputs": [],
   "source": [
    "import pycuda.autoinit\n",
    "from pycuda.compiler import SourceModule\n",
    "import pycuda.gpuarray as gpuarray\n",
    "from pycuda.curandom import rand as curand"
   ]
  },
  {
   "cell_type": "markdown",
   "metadata": {},
   "source": [
    "## 1. Definir o cenário:"
   ]
  },
  {
   "cell_type": "code",
   "execution_count": 10,
   "metadata": {
    "collapsed": true
   },
   "outputs": [],
   "source": [
    "kernel = SourceModule(\"\"\"\n",
    "\n",
    "__device__ void generateCenarioGPU(float &tempo , float &custo, float *rand)\n",
    "{\n",
    "    float t1 , t2 , t3 , e1 , e2 , e3;\n",
    "    \n",
    "    e1 = 2*rand[0] - 1;\n",
    "    e2 = 2*rand[1] - 1;\n",
    "    e3 = 2*rand[2] - 1;\n",
    "    \n",
    "    t1 = 2 + 1*e1;\n",
    "    t2 = 5 + 1*e2;\n",
    "    t3 = 2 + 0.5*e3;\n",
    "    \n",
    "    tempo = t1 + t2 + t3;\n",
    "    custo = 100000*tempo;\n",
    "}\n",
    "\n",
    "__global__ void generateCenariosGPU(float *cenarios_tempo, float* cenarios_custo, float *rand , \n",
    "unsigned int numcenarios)\n",
    "{\n",
    "    const unsigned int thread = blockIdx.x * blockDim.x + threadIdx.x ;\n",
    "    const unsigned int numthreads = blockDim.x * gridDim.x;\n",
    "    \n",
    "    for(unsigned int i=0; i < numcenarios ; i+=numthreads)\n",
    "        generateCenarioGPU(cenarios_tempo[thread + i], cenarios_custo[thread + i], &rand[i*3]);    \n",
    "}\n",
    "\"\"\")\n",
    "\n",
    "generateCenariosGPU = kernel.get_function('generateCenariosGPU')"
   ]
  },
  {
   "cell_type": "markdown",
   "metadata": {},
   "source": [
    "## Simular os cenários:"
   ]
  },
  {
   "cell_type": "code",
   "execution_count": 11,
   "metadata": {
    "collapsed": true
   },
   "outputs": [],
   "source": [
    "cenarios_tempo_gpu = gpuarray.zeros(ncenarios, np.float32)\n",
    "cenarios_custo_gpu = gpuarray.zeros(ncenarios, np.float32)\n",
    "\n",
    "start = t.time()\n",
    "rand_gpu = curand(3*ncenarios, dtype=np.float32)\n",
    "generateCenariosGPU(cenarios_tempo_gpu, cenarios_custo_gpu, rand_gpu , ncenarios, \\\n",
    "                    block=(256,1,1) , grid=(32,1))\n",
    "total_time_gpu = t.time() - start"
   ]
  },
  {
   "cell_type": "markdown",
   "metadata": {},
   "source": [
    "## Visualização de Resultados"
   ]
  },
  {
   "cell_type": "code",
   "execution_count": 12,
   "metadata": {
    "collapsed": false
   },
   "outputs": [
    {
     "name": "stdout",
     "output_type": "stream",
     "text": [
      "GPU: em 0.150039 secs\n"
     ]
    }
   ],
   "source": [
    "print('GPU: em %f secs' % total_time_gpu)"
   ]
  },
  {
   "cell_type": "code",
   "execution_count": 13,
   "metadata": {
    "collapsed": false
   },
   "outputs": [
    {
     "data": {
      "image/png": "[encoded data removed]",
      "text/plain": [
       "<matplotlib.figure.Figure at 0x2b0676a37c90>"
      ]
     },
     "metadata": {},
     "output_type": "display_data"
    }
   ],
   "source": [
    "plt.figure(figsize=(12,6))\n",
    "plt.subplot(121)\n",
    "plt.hist(cenarios_tempo)\n",
    "plt.subplot(122)\n",
    "plt.hist(cenarios_custo)\n",
    "plt.show()"
   ]
  },
  {
   "cell_type": "code",
   "execution_count": 14,
   "metadata": {
    "collapsed": false
   },
   "outputs": [
    {
     "name": "stdout",
     "output_type": "stream",
     "text": [
      "Probabilidade de passar R$ 1000000 é 13.426688\n"
     ]
    }
   ],
   "source": [
    "cenarios_custo_cpu = cenarios_custo_gpu.get()\n",
    "cenarios_custo_ok_cpu = np.sum(np.apply_along_axis(lambda x:x>1000000, axis=0 , \\\n",
    "                                                   arr=cenarios_custo_cpu))\n",
    "p = (cenarios_custo_ok_cpu/len(cenarios_custo_cpu))*100\n",
    "print('Probabilidade de passar R$ 1000000 é %f' % p )"
   ]
  },
  {
   "cell_type": "code",
   "execution_count": 15,
   "metadata": {
    "collapsed": false
   },
   "outputs": [
    {
     "name": "stdout",
     "output_type": "stream",
     "text": [
      "speedup 1208.959214 \n"
     ]
    }
   ],
   "source": [
    "speedup = total_time_cpu/total_time_gpu\n",
    "print ('speedup %f ' % speedup)"
   ]
  },
  {
   "cell_type": "code",
   "execution_count": null,
   "metadata": {
    "collapsed": true
   },
   "outputs": [],
   "source": []
  },
  {
   "cell_type": "code",
   "execution_count": null,
   "metadata": {
    "collapsed": true
   },
   "outputs": [],
   "source": []
  }
 ],
 "metadata": {
  "kernelspec": {
   "display_name": "Python 3",
   "language": "python",
   "name": "python3"
  },
  "language_info": {
   "codemirror_mode": {
    "name": "ipython",
    "version": 3
   },
   "file_extension": ".py",
   "mimetype": "text/x-python",
   "name": "python",
   "nbconvert_exporter": "python",
   "pygments_lexer": "ipython3",
   "version": "3.3.5"
  }
 },
 "nbformat": 4,
 "nbformat_minor": 1
}
